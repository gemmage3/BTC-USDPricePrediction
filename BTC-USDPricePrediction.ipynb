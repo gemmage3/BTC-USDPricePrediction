{
 "cells": [
  {
   "cell_type": "code",
   "execution_count": null,
   "metadata": {},
   "outputs": [],
   "source": [
    "#Description: This program uses an artificial recurrent neural network called Long Short Term Memory (LTSM)\n",
    "#            To predict the closing price of BITCOIN Using the past 60 day price.\n"
   ]
  },
  {
   "cell_type": "code",
   "execution_count": 3,
   "metadata": {},
   "outputs": [],
   "source": [
    "import math\n",
    "import pandas_datareader as web\n",
    "import numpy as np\n",
    "import pandas as pd\n",
    "import matplotlib.pyplot as plt\n",
    "plt.style.use('fivethirtyeight')"
   ]
  },
  {
   "cell_type": "code",
   "execution_count": 4,
   "metadata": {},
   "outputs": [],
   "source": [
    "import pandas_datareader as web"
   ]
  },
  {
   "cell_type": "code",
   "execution_count": 7,
   "metadata": {},
   "outputs": [
    {
     "data": {
      "text/html": [
       "<div>\n",
       "<style scoped>\n",
       "    .dataframe tbody tr th:only-of-type {\n",
       "        vertical-align: middle;\n",
       "    }\n",
       "\n",
       "    .dataframe tbody tr th {\n",
       "        vertical-align: top;\n",
       "    }\n",
       "\n",
       "    .dataframe thead th {\n",
       "        text-align: right;\n",
       "    }\n",
       "</style>\n",
       "<table border=\"1\" class=\"dataframe\">\n",
       "  <thead>\n",
       "    <tr style=\"text-align: right;\">\n",
       "      <th></th>\n",
       "      <th>High</th>\n",
       "      <th>Low</th>\n",
       "      <th>Open</th>\n",
       "      <th>Close</th>\n",
       "      <th>Volume</th>\n",
       "      <th>Adj Close</th>\n",
       "    </tr>\n",
       "    <tr>\n",
       "      <th>Date</th>\n",
       "      <th></th>\n",
       "      <th></th>\n",
       "      <th></th>\n",
       "      <th></th>\n",
       "      <th></th>\n",
       "      <th></th>\n",
       "    </tr>\n",
       "  </thead>\n",
       "  <tbody>\n",
       "    <tr>\n",
       "      <th>2015-01-01</th>\n",
       "      <td>320.434998</td>\n",
       "      <td>314.002991</td>\n",
       "      <td>320.434998</td>\n",
       "      <td>314.248993</td>\n",
       "      <td>8036550</td>\n",
       "      <td>314.248993</td>\n",
       "    </tr>\n",
       "    <tr>\n",
       "      <th>2015-01-02</th>\n",
       "      <td>315.838989</td>\n",
       "      <td>313.565002</td>\n",
       "      <td>314.079010</td>\n",
       "      <td>315.032013</td>\n",
       "      <td>7860650</td>\n",
       "      <td>315.032013</td>\n",
       "    </tr>\n",
       "    <tr>\n",
       "      <th>2015-01-03</th>\n",
       "      <td>315.149994</td>\n",
       "      <td>281.082001</td>\n",
       "      <td>314.846008</td>\n",
       "      <td>281.082001</td>\n",
       "      <td>33054400</td>\n",
       "      <td>281.082001</td>\n",
       "    </tr>\n",
       "    <tr>\n",
       "      <th>2015-01-04</th>\n",
       "      <td>287.230011</td>\n",
       "      <td>257.612000</td>\n",
       "      <td>281.145996</td>\n",
       "      <td>264.195007</td>\n",
       "      <td>55629100</td>\n",
       "      <td>264.195007</td>\n",
       "    </tr>\n",
       "    <tr>\n",
       "      <th>2015-01-05</th>\n",
       "      <td>278.341003</td>\n",
       "      <td>265.084015</td>\n",
       "      <td>265.084015</td>\n",
       "      <td>274.473999</td>\n",
       "      <td>43962800</td>\n",
       "      <td>274.473999</td>\n",
       "    </tr>\n",
       "    <tr>\n",
       "      <th>...</th>\n",
       "      <td>...</td>\n",
       "      <td>...</td>\n",
       "      <td>...</td>\n",
       "      <td>...</td>\n",
       "      <td>...</td>\n",
       "      <td>...</td>\n",
       "    </tr>\n",
       "    <tr>\n",
       "      <th>2020-11-22</th>\n",
       "      <td>18688.968750</td>\n",
       "      <td>17671.384766</td>\n",
       "      <td>18642.232422</td>\n",
       "      <td>18370.001953</td>\n",
       "      <td>41280434225</td>\n",
       "      <td>18370.001953</td>\n",
       "    </tr>\n",
       "    <tr>\n",
       "      <th>2020-11-23</th>\n",
       "      <td>18711.425781</td>\n",
       "      <td>18000.796875</td>\n",
       "      <td>18370.017578</td>\n",
       "      <td>18364.121094</td>\n",
       "      <td>42741112307</td>\n",
       "      <td>18364.121094</td>\n",
       "    </tr>\n",
       "    <tr>\n",
       "      <th>2020-11-24</th>\n",
       "      <td>19348.271484</td>\n",
       "      <td>18128.656250</td>\n",
       "      <td>18365.015625</td>\n",
       "      <td>19107.464844</td>\n",
       "      <td>51469565008</td>\n",
       "      <td>19107.464844</td>\n",
       "    </tr>\n",
       "    <tr>\n",
       "      <th>2020-11-25</th>\n",
       "      <td>19390.964844</td>\n",
       "      <td>18581.146484</td>\n",
       "      <td>19104.410156</td>\n",
       "      <td>18732.121094</td>\n",
       "      <td>43710357371</td>\n",
       "      <td>18732.121094</td>\n",
       "    </tr>\n",
       "    <tr>\n",
       "      <th>2020-11-26</th>\n",
       "      <td>18866.285156</td>\n",
       "      <td>16351.035156</td>\n",
       "      <td>18729.839844</td>\n",
       "      <td>17150.623047</td>\n",
       "      <td>61396835736</td>\n",
       "      <td>17150.623047</td>\n",
       "    </tr>\n",
       "  </tbody>\n",
       "</table>\n",
       "<p>2157 rows × 6 columns</p>\n",
       "</div>"
      ],
      "text/plain": [
       "                    High           Low          Open         Close  \\\n",
       "Date                                                                 \n",
       "2015-01-01    320.434998    314.002991    320.434998    314.248993   \n",
       "2015-01-02    315.838989    313.565002    314.079010    315.032013   \n",
       "2015-01-03    315.149994    281.082001    314.846008    281.082001   \n",
       "2015-01-04    287.230011    257.612000    281.145996    264.195007   \n",
       "2015-01-05    278.341003    265.084015    265.084015    274.473999   \n",
       "...                  ...           ...           ...           ...   \n",
       "2020-11-22  18688.968750  17671.384766  18642.232422  18370.001953   \n",
       "2020-11-23  18711.425781  18000.796875  18370.017578  18364.121094   \n",
       "2020-11-24  19348.271484  18128.656250  18365.015625  19107.464844   \n",
       "2020-11-25  19390.964844  18581.146484  19104.410156  18732.121094   \n",
       "2020-11-26  18866.285156  16351.035156  18729.839844  17150.623047   \n",
       "\n",
       "                 Volume     Adj Close  \n",
       "Date                                   \n",
       "2015-01-01      8036550    314.248993  \n",
       "2015-01-02      7860650    315.032013  \n",
       "2015-01-03     33054400    281.082001  \n",
       "2015-01-04     55629100    264.195007  \n",
       "2015-01-05     43962800    274.473999  \n",
       "...                 ...           ...  \n",
       "2020-11-22  41280434225  18370.001953  \n",
       "2020-11-23  42741112307  18364.121094  \n",
       "2020-11-24  51469565008  19107.464844  \n",
       "2020-11-25  43710357371  18732.121094  \n",
       "2020-11-26  61396835736  17150.623047  \n",
       "\n",
       "[2157 rows x 6 columns]"
      ]
     },
     "execution_count": 7,
     "metadata": {},
     "output_type": "execute_result"
    }
   ],
   "source": [
    "dfff = web.DataReader('BTC-USD', data_source='yahoo', start='2015-01-01', end='2020-11-25')\n",
    "dfff\n"
   ]
  },
  {
   "cell_type": "code",
   "execution_count": 8,
   "metadata": {},
   "outputs": [
    {
     "data": {
      "text/plain": [
       "(2157, 6)"
      ]
     },
     "execution_count": 8,
     "metadata": {},
     "output_type": "execute_result"
    }
   ],
   "source": [
    "#Get the number of rows and columns in the data set \n",
    "dfff.shape"
   ]
  },
  {
   "cell_type": "code",
   "execution_count": 9,
   "metadata": {},
   "outputs": [],
   "source": [
    "import matplotlib.pyplot as plt\n",
    "plt.style.use('fivethirtyeight')"
   ]
  },
  {
   "cell_type": "code",
   "execution_count": 10,
   "metadata": {},
   "outputs": [],
   "source": [
    "import matplotlib.pyplot as plt\n",
    "import numpy as np\n",
    "%matplotlib inline"
   ]
  },
  {
   "cell_type": "code",
   "execution_count": 11,
   "metadata": {},
   "outputs": [],
   "source": [
    "import pandas_datareader as web"
   ]
  },
  {
   "cell_type": "code",
   "execution_count": 12,
   "metadata": {},
   "outputs": [
    {
     "data": {
      "text/html": [
       "<div>\n",
       "<style scoped>\n",
       "    .dataframe tbody tr th:only-of-type {\n",
       "        vertical-align: middle;\n",
       "    }\n",
       "\n",
       "    .dataframe tbody tr th {\n",
       "        vertical-align: top;\n",
       "    }\n",
       "\n",
       "    .dataframe thead th {\n",
       "        text-align: right;\n",
       "    }\n",
       "</style>\n",
       "<table border=\"1\" class=\"dataframe\">\n",
       "  <thead>\n",
       "    <tr style=\"text-align: right;\">\n",
       "      <th></th>\n",
       "      <th>High</th>\n",
       "      <th>Low</th>\n",
       "      <th>Open</th>\n",
       "      <th>Close</th>\n",
       "      <th>Volume</th>\n",
       "      <th>Adj Close</th>\n",
       "    </tr>\n",
       "    <tr>\n",
       "      <th>Date</th>\n",
       "      <th></th>\n",
       "      <th></th>\n",
       "      <th></th>\n",
       "      <th></th>\n",
       "      <th></th>\n",
       "      <th></th>\n",
       "    </tr>\n",
       "  </thead>\n",
       "  <tbody>\n",
       "    <tr>\n",
       "      <th>2015-01-01</th>\n",
       "      <td>320.434998</td>\n",
       "      <td>314.002991</td>\n",
       "      <td>320.434998</td>\n",
       "      <td>314.248993</td>\n",
       "      <td>8036550</td>\n",
       "      <td>314.248993</td>\n",
       "    </tr>\n",
       "    <tr>\n",
       "      <th>2015-01-02</th>\n",
       "      <td>315.838989</td>\n",
       "      <td>313.565002</td>\n",
       "      <td>314.079010</td>\n",
       "      <td>315.032013</td>\n",
       "      <td>7860650</td>\n",
       "      <td>315.032013</td>\n",
       "    </tr>\n",
       "    <tr>\n",
       "      <th>2015-01-03</th>\n",
       "      <td>315.149994</td>\n",
       "      <td>281.082001</td>\n",
       "      <td>314.846008</td>\n",
       "      <td>281.082001</td>\n",
       "      <td>33054400</td>\n",
       "      <td>281.082001</td>\n",
       "    </tr>\n",
       "    <tr>\n",
       "      <th>2015-01-04</th>\n",
       "      <td>287.230011</td>\n",
       "      <td>257.612000</td>\n",
       "      <td>281.145996</td>\n",
       "      <td>264.195007</td>\n",
       "      <td>55629100</td>\n",
       "      <td>264.195007</td>\n",
       "    </tr>\n",
       "    <tr>\n",
       "      <th>2015-01-05</th>\n",
       "      <td>278.341003</td>\n",
       "      <td>265.084015</td>\n",
       "      <td>265.084015</td>\n",
       "      <td>274.473999</td>\n",
       "      <td>43962800</td>\n",
       "      <td>274.473999</td>\n",
       "    </tr>\n",
       "    <tr>\n",
       "      <th>...</th>\n",
       "      <td>...</td>\n",
       "      <td>...</td>\n",
       "      <td>...</td>\n",
       "      <td>...</td>\n",
       "      <td>...</td>\n",
       "      <td>...</td>\n",
       "    </tr>\n",
       "    <tr>\n",
       "      <th>2020-11-22</th>\n",
       "      <td>18688.968750</td>\n",
       "      <td>17671.384766</td>\n",
       "      <td>18642.232422</td>\n",
       "      <td>18370.001953</td>\n",
       "      <td>41280434225</td>\n",
       "      <td>18370.001953</td>\n",
       "    </tr>\n",
       "    <tr>\n",
       "      <th>2020-11-23</th>\n",
       "      <td>18711.425781</td>\n",
       "      <td>18000.796875</td>\n",
       "      <td>18370.017578</td>\n",
       "      <td>18364.121094</td>\n",
       "      <td>42741112307</td>\n",
       "      <td>18364.121094</td>\n",
       "    </tr>\n",
       "    <tr>\n",
       "      <th>2020-11-24</th>\n",
       "      <td>19348.271484</td>\n",
       "      <td>18128.656250</td>\n",
       "      <td>18365.015625</td>\n",
       "      <td>19107.464844</td>\n",
       "      <td>51469565008</td>\n",
       "      <td>19107.464844</td>\n",
       "    </tr>\n",
       "    <tr>\n",
       "      <th>2020-11-25</th>\n",
       "      <td>19390.964844</td>\n",
       "      <td>18581.146484</td>\n",
       "      <td>19104.410156</td>\n",
       "      <td>18732.121094</td>\n",
       "      <td>43710357371</td>\n",
       "      <td>18732.121094</td>\n",
       "    </tr>\n",
       "    <tr>\n",
       "      <th>2020-11-26</th>\n",
       "      <td>18866.285156</td>\n",
       "      <td>16351.035156</td>\n",
       "      <td>18729.839844</td>\n",
       "      <td>17150.623047</td>\n",
       "      <td>61396835736</td>\n",
       "      <td>17150.623047</td>\n",
       "    </tr>\n",
       "  </tbody>\n",
       "</table>\n",
       "<p>2157 rows × 6 columns</p>\n",
       "</div>"
      ],
      "text/plain": [
       "                    High           Low          Open         Close  \\\n",
       "Date                                                                 \n",
       "2015-01-01    320.434998    314.002991    320.434998    314.248993   \n",
       "2015-01-02    315.838989    313.565002    314.079010    315.032013   \n",
       "2015-01-03    315.149994    281.082001    314.846008    281.082001   \n",
       "2015-01-04    287.230011    257.612000    281.145996    264.195007   \n",
       "2015-01-05    278.341003    265.084015    265.084015    274.473999   \n",
       "...                  ...           ...           ...           ...   \n",
       "2020-11-22  18688.968750  17671.384766  18642.232422  18370.001953   \n",
       "2020-11-23  18711.425781  18000.796875  18370.017578  18364.121094   \n",
       "2020-11-24  19348.271484  18128.656250  18365.015625  19107.464844   \n",
       "2020-11-25  19390.964844  18581.146484  19104.410156  18732.121094   \n",
       "2020-11-26  18866.285156  16351.035156  18729.839844  17150.623047   \n",
       "\n",
       "                 Volume     Adj Close  \n",
       "Date                                   \n",
       "2015-01-01      8036550    314.248993  \n",
       "2015-01-02      7860650    315.032013  \n",
       "2015-01-03     33054400    281.082001  \n",
       "2015-01-04     55629100    264.195007  \n",
       "2015-01-05     43962800    274.473999  \n",
       "...                 ...           ...  \n",
       "2020-11-22  41280434225  18370.001953  \n",
       "2020-11-23  42741112307  18364.121094  \n",
       "2020-11-24  51469565008  19107.464844  \n",
       "2020-11-25  43710357371  18732.121094  \n",
       "2020-11-26  61396835736  17150.623047  \n",
       "\n",
       "[2157 rows x 6 columns]"
      ]
     },
     "execution_count": 12,
     "metadata": {},
     "output_type": "execute_result"
    }
   ],
   "source": [
    "dfff = web.DataReader('BTC-USD', data_source='yahoo', start='2015-01-01', end='2020-11-25')\n",
    "dfff"
   ]
  },
  {
   "cell_type": "code",
   "execution_count": 13,
   "metadata": {},
   "outputs": [
    {
     "data": {
      "text/plain": [
       "(2157, 6)"
      ]
     },
     "execution_count": 13,
     "metadata": {},
     "output_type": "execute_result"
    }
   ],
   "source": [
    "dfff.shape"
   ]
  },
  {
   "cell_type": "code",
   "execution_count": 14,
   "metadata": {},
   "outputs": [],
   "source": [
    "import matplotlib.pyplot as plt\n",
    "plt.style.use('fivethirtyeight')"
   ]
  },
  {
   "cell_type": "code",
   "execution_count": 15,
   "metadata": {},
   "outputs": [
    {
     "data": {
      "image/png": "[encoded data removed]",
      "text/plain": [
       "<Figure size 1152x576 with 1 Axes>"
      ]
     },
     "metadata": {},
     "output_type": "display_data"
    }
   ],
   "source": [
    "plt.figure(figsize=(16,8))\n",
    "plt.title('Close Price History')\n",
    "plt.plot(dfff['Close'])\n",
    "plt.xlabel('Data', fontsize=18)\n",
    "plt.ylabel('Close Price USD ($)', fontsize=18)\n",
    "plt.show()"
   ]
  },
  {
   "cell_type": "code",
   "execution_count": 16,
   "metadata": {},
   "outputs": [],
   "source": [
    "import math"
   ]
  },
  {
   "cell_type": "code",
   "execution_count": 17,
   "metadata": {},
   "outputs": [
    {
     "data": {
      "text/plain": [
       "1726"
      ]
     },
     "execution_count": 17,
     "metadata": {},
     "output_type": "execute_result"
    }
   ],
   "source": [
    "#Create a new dataframe with only the 'Close column'\n",
    "data = dfff.filter(['Close'])\n",
    "#Convert the dataframe to a numpy array\n",
    "dataset = data.values\n",
    "#Get the number of rows to train the model on\n",
    "training_data_len = math.ceil(len(dataset)* .8)\n",
    "training_data_len"
   ]
  },
  {
   "cell_type": "code",
   "execution_count": 18,
   "metadata": {},
   "outputs": [],
   "source": [
    "from sklearn.preprocessing import MinMaxScaler"
   ]
  },
  {
   "cell_type": "code",
   "execution_count": 19,
   "metadata": {},
   "outputs": [
    {
     "data": {
      "text/plain": [
       "array([[0.00704715],\n",
       "       [0.00708768],\n",
       "       [0.00533037],\n",
       "       ...,\n",
       "       [0.97981627],\n",
       "       [0.96038783],\n",
       "       [0.87852678]])"
      ]
     },
     "execution_count": 19,
     "metadata": {},
     "output_type": "execute_result"
    }
   ],
   "source": [
    "#Scale the data\n",
    "scaler = MinMaxScaler(feature_range=(0,1))\n",
    "scaled_data = scaler.fit_transform(dataset)\n",
    "scaled_data"
   ]
  },
  {
   "cell_type": "code",
   "execution_count": 20,
   "metadata": {},
   "outputs": [
    {
     "name": "stdout",
     "output_type": "stream",
     "text": [
      "[array([0.00704715, 0.00708768, 0.00533037, 0.00445627, 0.00498833,\n",
      "       0.00559472, 0.00601647, 0.00544771, 0.0058131 , 0.005005  ,\n",
      "       0.0045321 , 0.00464266, 0.00247204, 0.        , 0.00164297,\n",
      "       0.00155254, 0.00109512, 0.00166859, 0.00190266, 0.00171911,\n",
      "       0.00252566, 0.00286258, 0.0028353 , 0.00361007, 0.00391396,\n",
      "       0.00493651, 0.004419  , 0.00288892, 0.00286812, 0.00250123,\n",
      "       0.00203739, 0.00252954, 0.00311223, 0.00254487, 0.00252338,\n",
      "       0.00201912, 0.00228595, 0.00257002, 0.00234527, 0.00217435,\n",
      "       0.00216033, 0.00212647, 0.00225997, 0.00296719, 0.00410046,\n",
      "       0.00293603, 0.0028852 , 0.00339075, 0.00301372, 0.00321854,\n",
      "       0.0033995 , 0.00343858, 0.00299566, 0.00314654, 0.00313842,\n",
      "       0.00307294, 0.0030189 , 0.00391966, 0.00394217, 0.00424959])]\n",
      "[0.0050502362799632605]\n",
      "[array([0.00704715, 0.00708768, 0.00533037, 0.00445627, 0.00498833,\n",
      "       0.00559472, 0.00601647, 0.00544771, 0.0058131 , 0.005005  ,\n",
      "       0.0045321 , 0.00464266, 0.00247204, 0.        , 0.00164297,\n",
      "       0.00155254, 0.00109512, 0.00166859, 0.00190266, 0.00171911,\n",
      "       0.00252566, 0.00286258, 0.0028353 , 0.00361007, 0.00391396,\n",
      "       0.00493651, 0.004419  , 0.00288892, 0.00286812, 0.00250123,\n",
      "       0.00203739, 0.00252954, 0.00311223, 0.00254487, 0.00252338,\n",
      "       0.00201912, 0.00228595, 0.00257002, 0.00234527, 0.00217435,\n",
      "       0.00216033, 0.00212647, 0.00225997, 0.00296719, 0.00410046,\n",
      "       0.00293603, 0.0028852 , 0.00339075, 0.00301372, 0.00321854,\n",
      "       0.0033995 , 0.00343858, 0.00299566, 0.00314654, 0.00313842,\n",
      "       0.00307294, 0.0030189 , 0.00391966, 0.00394217, 0.00424959]), array([0.00708768, 0.00533037, 0.00445627, 0.00498833, 0.00559472,\n",
      "       0.00601647, 0.00544771, 0.0058131 , 0.005005  , 0.0045321 ,\n",
      "       0.00464266, 0.00247204, 0.        , 0.00164297, 0.00155254,\n",
      "       0.00109512, 0.00166859, 0.00190266, 0.00171911, 0.00252566,\n",
      "       0.00286258, 0.0028353 , 0.00361007, 0.00391396, 0.00493651,\n",
      "       0.004419  , 0.00288892, 0.00286812, 0.00250123, 0.00203739,\n",
      "       0.00252954, 0.00311223, 0.00254487, 0.00252338, 0.00201912,\n",
      "       0.00228595, 0.00257002, 0.00234527, 0.00217435, 0.00216033,\n",
      "       0.00212647, 0.00225997, 0.00296719, 0.00410046, 0.00293603,\n",
      "       0.0028852 , 0.00339075, 0.00301372, 0.00321854, 0.0033995 ,\n",
      "       0.00343858, 0.00299566, 0.00314654, 0.00313842, 0.00307294,\n",
      "       0.0030189 , 0.00391966, 0.00394217, 0.00424959, 0.00505024])]\n",
      "[0.0050502362799632605, 0.005362462045679315]\n"
     ]
    }
   ],
   "source": [
    "#Create the training data set\n",
    "#Create the scaled training data set\n",
    "train_data = scaled_data[0:training_data_len, :]\n",
    "#Split the data into x_train and y_train data sets\n",
    "x_train = []\n",
    "y_train = []\n",
    "\n",
    "for i in range(60, len(train_data)):\n",
    "    x_train.append(train_data[i-60:i, 0])\n",
    "    y_train.append(train_data[i, 0])\n",
    "    if i<= 61:\n",
    "        print(x_train)\n",
    "        print(y_train)\n",
    "        print"
   ]
  },
  {
   "cell_type": "code",
   "execution_count": 21,
   "metadata": {},
   "outputs": [],
   "source": [
    "import numpy as np"
   ]
  },
  {
   "cell_type": "code",
   "execution_count": 22,
   "metadata": {},
   "outputs": [],
   "source": [
    "#Convert the x_train & y_train to numpy arrays\n",
    "x_train, y_train = np.array(x_train), np.array(y_train)"
   ]
  },
  {
   "cell_type": "code",
   "execution_count": 23,
   "metadata": {},
   "outputs": [
    {
     "data": {
      "text/plain": [
       "(1666, 60, 1)"
      ]
     },
     "execution_count": 23,
     "metadata": {},
     "output_type": "execute_result"
    }
   ],
   "source": [
    "#Reshape the Data\n",
    "x_train = np.reshape(x_train, (x_train.shape[0], x_train.shape[1], 1))\n",
    "x_train.shape"
   ]
  },
  {
   "cell_type": "code",
   "execution_count": 25,
   "metadata": {},
   "outputs": [],
   "source": [
    "from tensorflow.keras import Sequential\n"
   ]
  },
  {
   "cell_type": "code",
   "execution_count": 26,
   "metadata": {},
   "outputs": [],
   "source": [
    "from tensorflow.keras.layers import Dense"
   ]
  },
  {
   "cell_type": "code",
   "execution_count": 27,
   "metadata": {},
   "outputs": [],
   "source": [
    "from tensorflow.keras.layers import LSTM"
   ]
  },
  {
   "cell_type": "code",
   "execution_count": 28,
   "metadata": {},
   "outputs": [],
   "source": [
    "#Build the LSTM model\n",
    "model = Sequential()\n",
    "model.add(LSTM(50, return_sequences=True, input_shape=(x_train.shape[1], 1)))\n",
    "model.add(LSTM(50, return_sequences=False))\n",
    "model.add(Dense(25))\n",
    "model.add(Dense(1))"
   ]
  },
  {
   "cell_type": "code",
   "execution_count": 29,
   "metadata": {},
   "outputs": [],
   "source": [
    "#Compile the model\n",
    "model.compile(optimizer='adam', loss='mean_squared_error')"
   ]
  },
  {
   "cell_type": "code",
   "execution_count": 30,
   "metadata": {},
   "outputs": [
    {
     "name": "stdout",
     "output_type": "stream",
     "text": [
      "1666/1666 [==============================] - 51s 31ms/step - loss: 0.0021\n"
     ]
    },
    {
     "data": {
      "text/plain": [
       "<tensorflow.python.keras.callbacks.History at 0x7f9bc1ad1670>"
      ]
     },
     "execution_count": 30,
     "metadata": {},
     "output_type": "execute_result"
    }
   ],
   "source": [
    "#Train the model\n",
    "model.fit(x_train, y_train, batch_size=1, epochs=1)"
   ]
  },
  {
   "cell_type": "code",
   "execution_count": 31,
   "metadata": {},
   "outputs": [],
   "source": [
    "#Create the testing data set\n",
    "#Create new array containing scaled values from index 1666 to 2166\n",
    "test_data = scaled_data[training_data_len - 60:,:]\n",
    "#Create the data sets x_test and y_test\n",
    "x_test = []\n",
    "y_test = dataset[training_data_len:, :]\n",
    "for i in range(60, len(test_data)):\n",
    "    x_test.append(test_data[i-60:i, 0])"
   ]
  },
  {
   "cell_type": "code",
   "execution_count": 32,
   "metadata": {},
   "outputs": [],
   "source": [
    "#convert the data to a numpy array\n",
    "x_test = np.array(x_test)"
   ]
  },
  {
   "cell_type": "code",
   "execution_count": 33,
   "metadata": {},
   "outputs": [],
   "source": [
    "#Reshape data\n",
    "x_test = np.reshape(x_test,(x_test.shape[0], x_test.shape[1], 1))"
   ]
  },
  {
   "cell_type": "code",
   "execution_count": 34,
   "metadata": {},
   "outputs": [],
   "source": [
    "#Get the models predicted price values \n",
    "predictions = model.predict(x_test)\n",
    "predictions = scaler.inverse_transform(predictions)"
   ]
  },
  {
   "cell_type": "code",
   "execution_count": 35,
   "metadata": {},
   "outputs": [
    {
     "data": {
      "text/plain": [
       "90.79375271896751"
      ]
     },
     "execution_count": 35,
     "metadata": {},
     "output_type": "execute_result"
    }
   ],
   "source": [
    "#Get the route mean squared error (RMSE)\n",
    "rmse = np.sqrt(np.mean(predictions - y_test)**2)\n",
    "rmse"
   ]
  },
  {
   "cell_type": "code",
   "execution_count": 37,
   "metadata": {},
   "outputs": [
    {
     "name": "stderr",
     "output_type": "stream",
     "text": [
      "<ipython-input-37-807b1149352b>:4: SettingWithCopyWarning: \n",
      "A value is trying to be set on a copy of a slice from a DataFrame.\n",
      "Try using .loc[row_indexer,col_indexer] = value instead\n",
      "\n",
      "See the caveats in the documentation: https://pandas.pydata.org/pandas-docs/stable/user_guide/indexing.html#returning-a-view-versus-a-copy\n",
      "  valid['Predictions'] = predictions\n"
     ]
    },
    {
     "data": {
      "image/png": "[encoded data removed]",
      "text/plain": [
       "<Figure size 1152x576 with 1 Axes>"
      ]
     },
     "metadata": {},
     "output_type": "display_data"
    }
   ],
   "source": [
    "#plot data \n",
    "train = data[:training_data_len:]\n",
    "valid = data[training_data_len:]\n",
    "valid['Predictions'] = predictions\n",
    "#Visualize the data\n",
    "plt.figure(figsize=(16,8))\n",
    "plt.title('Model')\n",
    "plt.xlabel('Date', fontsize=18)\n",
    "plt.ylabel('Close Price USD', fontsize=18)\n",
    "plt.plot(train['Close'])\n",
    "plt.plot(valid[['Close', 'Predictions']])\n",
    "plt.legend(['Train', 'Val', 'Predictions'], loc = 'lower right')\n",
    "plt.show()\n"
   ]
  },
  {
   "cell_type": "code",
   "execution_count": 38,
   "metadata": {},
   "outputs": [
    {
     "data": {
      "text/html": [
       "<div>\n",
       "<style scoped>\n",
       "    .dataframe tbody tr th:only-of-type {\n",
       "        vertical-align: middle;\n",
       "    }\n",
       "\n",
       "    .dataframe tbody tr th {\n",
       "        vertical-align: top;\n",
       "    }\n",
       "\n",
       "    .dataframe thead th {\n",
       "        text-align: right;\n",
       "    }\n",
       "</style>\n",
       "<table border=\"1\" class=\"dataframe\">\n",
       "  <thead>\n",
       "    <tr style=\"text-align: right;\">\n",
       "      <th></th>\n",
       "      <th>Close</th>\n",
       "      <th>Predictions</th>\n",
       "    </tr>\n",
       "    <tr>\n",
       "      <th>Date</th>\n",
       "      <th></th>\n",
       "      <th></th>\n",
       "    </tr>\n",
       "  </thead>\n",
       "  <tbody>\n",
       "    <tr>\n",
       "      <th>2019-09-22</th>\n",
       "      <td>9729.324219</td>\n",
       "      <td>10120.528320</td>\n",
       "    </tr>\n",
       "    <tr>\n",
       "      <th>2019-09-23</th>\n",
       "      <td>8620.566406</td>\n",
       "      <td>10033.231445</td>\n",
       "    </tr>\n",
       "    <tr>\n",
       "      <th>2019-09-24</th>\n",
       "      <td>8486.993164</td>\n",
       "      <td>9767.240234</td>\n",
       "    </tr>\n",
       "    <tr>\n",
       "      <th>2019-09-25</th>\n",
       "      <td>8118.967773</td>\n",
       "      <td>9437.897461</td>\n",
       "    </tr>\n",
       "    <tr>\n",
       "      <th>2019-09-26</th>\n",
       "      <td>8251.845703</td>\n",
       "      <td>9068.853516</td>\n",
       "    </tr>\n",
       "    <tr>\n",
       "      <th>...</th>\n",
       "      <td>...</td>\n",
       "      <td>...</td>\n",
       "    </tr>\n",
       "    <tr>\n",
       "      <th>2020-11-22</th>\n",
       "      <td>18370.001953</td>\n",
       "      <td>17585.781250</td>\n",
       "    </tr>\n",
       "    <tr>\n",
       "      <th>2020-11-23</th>\n",
       "      <td>18364.121094</td>\n",
       "      <td>17803.490234</td>\n",
       "    </tr>\n",
       "    <tr>\n",
       "      <th>2020-11-24</th>\n",
       "      <td>19107.464844</td>\n",
       "      <td>17921.375000</td>\n",
       "    </tr>\n",
       "    <tr>\n",
       "      <th>2020-11-25</th>\n",
       "      <td>18732.121094</td>\n",
       "      <td>18097.437500</td>\n",
       "    </tr>\n",
       "    <tr>\n",
       "      <th>2020-11-26</th>\n",
       "      <td>17150.623047</td>\n",
       "      <td>18189.056641</td>\n",
       "    </tr>\n",
       "  </tbody>\n",
       "</table>\n",
       "<p>431 rows × 2 columns</p>\n",
       "</div>"
      ],
      "text/plain": [
       "                   Close   Predictions\n",
       "Date                                  \n",
       "2019-09-22   9729.324219  10120.528320\n",
       "2019-09-23   8620.566406  10033.231445\n",
       "2019-09-24   8486.993164   9767.240234\n",
       "2019-09-25   8118.967773   9437.897461\n",
       "2019-09-26   8251.845703   9068.853516\n",
       "...                  ...           ...\n",
       "2020-11-22  18370.001953  17585.781250\n",
       "2020-11-23  18364.121094  17803.490234\n",
       "2020-11-24  19107.464844  17921.375000\n",
       "2020-11-25  18732.121094  18097.437500\n",
       "2020-11-26  17150.623047  18189.056641\n",
       "\n",
       "[431 rows x 2 columns]"
      ]
     },
     "execution_count": 38,
     "metadata": {},
     "output_type": "execute_result"
    }
   ],
   "source": [
    "#Show the Valid and Predicted Prices\n",
    "valid"
   ]
  },
  {
   "cell_type": "code",
   "execution_count": 45,
   "metadata": {},
   "outputs": [],
   "source": [
    "import pandas_datareader as web"
   ]
  },
  {
   "cell_type": "code",
   "execution_count": 46,
   "metadata": {},
   "outputs": [
    {
     "data": {
      "text/html": [
       "<div>\n",
       "<style scoped>\n",
       "    .dataframe tbody tr th:only-of-type {\n",
       "        vertical-align: middle;\n",
       "    }\n",
       "\n",
       "    .dataframe tbody tr th {\n",
       "        vertical-align: top;\n",
       "    }\n",
       "\n",
       "    .dataframe thead th {\n",
       "        text-align: right;\n",
       "    }\n",
       "</style>\n",
       "<table border=\"1\" class=\"dataframe\">\n",
       "  <thead>\n",
       "    <tr style=\"text-align: right;\">\n",
       "      <th></th>\n",
       "      <th>High</th>\n",
       "      <th>Low</th>\n",
       "      <th>Open</th>\n",
       "      <th>Close</th>\n",
       "      <th>Volume</th>\n",
       "      <th>Adj Close</th>\n",
       "    </tr>\n",
       "    <tr>\n",
       "      <th>Date</th>\n",
       "      <th></th>\n",
       "      <th></th>\n",
       "      <th></th>\n",
       "      <th></th>\n",
       "      <th></th>\n",
       "      <th></th>\n",
       "    </tr>\n",
       "  </thead>\n",
       "  <tbody>\n",
       "    <tr>\n",
       "      <th>2015-01-01</th>\n",
       "      <td>320.434998</td>\n",
       "      <td>314.002991</td>\n",
       "      <td>320.434998</td>\n",
       "      <td>314.248993</td>\n",
       "      <td>8036550</td>\n",
       "      <td>314.248993</td>\n",
       "    </tr>\n",
       "    <tr>\n",
       "      <th>2015-01-02</th>\n",
       "      <td>315.838989</td>\n",
       "      <td>313.565002</td>\n",
       "      <td>314.079010</td>\n",
       "      <td>315.032013</td>\n",
       "      <td>7860650</td>\n",
       "      <td>315.032013</td>\n",
       "    </tr>\n",
       "    <tr>\n",
       "      <th>2015-01-03</th>\n",
       "      <td>315.149994</td>\n",
       "      <td>281.082001</td>\n",
       "      <td>314.846008</td>\n",
       "      <td>281.082001</td>\n",
       "      <td>33054400</td>\n",
       "      <td>281.082001</td>\n",
       "    </tr>\n",
       "    <tr>\n",
       "      <th>2015-01-04</th>\n",
       "      <td>287.230011</td>\n",
       "      <td>257.612000</td>\n",
       "      <td>281.145996</td>\n",
       "      <td>264.195007</td>\n",
       "      <td>55629100</td>\n",
       "      <td>264.195007</td>\n",
       "    </tr>\n",
       "    <tr>\n",
       "      <th>2015-01-05</th>\n",
       "      <td>278.341003</td>\n",
       "      <td>265.084015</td>\n",
       "      <td>265.084015</td>\n",
       "      <td>274.473999</td>\n",
       "      <td>43962800</td>\n",
       "      <td>274.473999</td>\n",
       "    </tr>\n",
       "    <tr>\n",
       "      <th>...</th>\n",
       "      <td>...</td>\n",
       "      <td>...</td>\n",
       "      <td>...</td>\n",
       "      <td>...</td>\n",
       "      <td>...</td>\n",
       "      <td>...</td>\n",
       "    </tr>\n",
       "    <tr>\n",
       "      <th>2020-11-22</th>\n",
       "      <td>18688.968750</td>\n",
       "      <td>17671.384766</td>\n",
       "      <td>18642.232422</td>\n",
       "      <td>18370.001953</td>\n",
       "      <td>41280434225</td>\n",
       "      <td>18370.001953</td>\n",
       "    </tr>\n",
       "    <tr>\n",
       "      <th>2020-11-23</th>\n",
       "      <td>18711.425781</td>\n",
       "      <td>18000.796875</td>\n",
       "      <td>18370.017578</td>\n",
       "      <td>18364.121094</td>\n",
       "      <td>42741112307</td>\n",
       "      <td>18364.121094</td>\n",
       "    </tr>\n",
       "    <tr>\n",
       "      <th>2020-11-24</th>\n",
       "      <td>19348.271484</td>\n",
       "      <td>18128.656250</td>\n",
       "      <td>18365.015625</td>\n",
       "      <td>19107.464844</td>\n",
       "      <td>51469565008</td>\n",
       "      <td>19107.464844</td>\n",
       "    </tr>\n",
       "    <tr>\n",
       "      <th>2020-11-25</th>\n",
       "      <td>19390.964844</td>\n",
       "      <td>18581.146484</td>\n",
       "      <td>19104.410156</td>\n",
       "      <td>18732.121094</td>\n",
       "      <td>43710357371</td>\n",
       "      <td>18732.121094</td>\n",
       "    </tr>\n",
       "    <tr>\n",
       "      <th>2020-11-26</th>\n",
       "      <td>18866.285156</td>\n",
       "      <td>16351.035156</td>\n",
       "      <td>18729.839844</td>\n",
       "      <td>17150.623047</td>\n",
       "      <td>61396835736</td>\n",
       "      <td>17150.623047</td>\n",
       "    </tr>\n",
       "  </tbody>\n",
       "</table>\n",
       "<p>2157 rows × 6 columns</p>\n",
       "</div>"
      ],
      "text/plain": [
       "                    High           Low          Open         Close  \\\n",
       "Date                                                                 \n",
       "2015-01-01    320.434998    314.002991    320.434998    314.248993   \n",
       "2015-01-02    315.838989    313.565002    314.079010    315.032013   \n",
       "2015-01-03    315.149994    281.082001    314.846008    281.082001   \n",
       "2015-01-04    287.230011    257.612000    281.145996    264.195007   \n",
       "2015-01-05    278.341003    265.084015    265.084015    274.473999   \n",
       "...                  ...           ...           ...           ...   \n",
       "2020-11-22  18688.968750  17671.384766  18642.232422  18370.001953   \n",
       "2020-11-23  18711.425781  18000.796875  18370.017578  18364.121094   \n",
       "2020-11-24  19348.271484  18128.656250  18365.015625  19107.464844   \n",
       "2020-11-25  19390.964844  18581.146484  19104.410156  18732.121094   \n",
       "2020-11-26  18866.285156  16351.035156  18729.839844  17150.623047   \n",
       "\n",
       "                 Volume     Adj Close  \n",
       "Date                                   \n",
       "2015-01-01      8036550    314.248993  \n",
       "2015-01-02      7860650    315.032013  \n",
       "2015-01-03     33054400    281.082001  \n",
       "2015-01-04     55629100    264.195007  \n",
       "2015-01-05     43962800    274.473999  \n",
       "...                 ...           ...  \n",
       "2020-11-22  41280434225  18370.001953  \n",
       "2020-11-23  42741112307  18364.121094  \n",
       "2020-11-24  51469565008  19107.464844  \n",
       "2020-11-25  43710357371  18732.121094  \n",
       "2020-11-26  61396835736  17150.623047  \n",
       "\n",
       "[2157 rows x 6 columns]"
      ]
     },
     "execution_count": 46,
     "metadata": {},
     "output_type": "execute_result"
    }
   ],
   "source": [
    "#Get the Quote\n",
    "btc_quote = web.DataReader('BTC-USD', data_source='yahoo', start='2015-01-01', end='2020-11-25')\n",
    "btc_quote\n"
   ]
  },
  {
   "cell_type": "code",
   "execution_count": 50,
   "metadata": {},
   "outputs": [
    {
     "name": "stdout",
     "output_type": "stream",
     "text": [
      "[[17948.38]]\n"
     ]
    }
   ],
   "source": [
    "#Create a new dataframe\n",
    "new_df = btc_quote.filter(['Close'])\n",
    "#Get the last 60 day closing price values and convert the dataframe to an array\n",
    "last_60_days = new_df[-60:].values\n",
    "#Scale the data to be values between 0 and 1\n",
    "last_60_days_scaled = scaler.transform(last_60_days)\n",
    "#Create an empty list\n",
    "x_test = []\n",
    "#Append the past 60 days\n",
    "x_test.append(last_60_days_scaled)\n",
    "#Convert the x_test data set to a numpy array\n",
    "x_test = np.array(x_test)\n",
    "#Reshape the data\n",
    "x_test = np.reshape(x_test, (x_test.shape[0], x_test.shape[1], 1))\n",
    "#Get the predicted scaled price\n",
    "pred_price = model.predict(x_test)\n",
    "#undo the scaling\n",
    "pred_price = scaler.inverse_transform(pred_price)\n",
    "print(pred_price)"
   ]
  },
  {
   "cell_type": "code",
   "execution_count": 51,
   "metadata": {},
   "outputs": [
    {
     "data": {
      "text/html": [
       "<div>\n",
       "<style scoped>\n",
       "    .dataframe tbody tr th:only-of-type {\n",
       "        vertical-align: middle;\n",
       "    }\n",
       "\n",
       "    .dataframe tbody tr th {\n",
       "        vertical-align: top;\n",
       "    }\n",
       "\n",
       "    .dataframe thead th {\n",
       "        text-align: right;\n",
       "    }\n",
       "</style>\n",
       "<table border=\"1\" class=\"dataframe\">\n",
       "  <thead>\n",
       "    <tr style=\"text-align: right;\">\n",
       "      <th></th>\n",
       "      <th>High</th>\n",
       "      <th>Low</th>\n",
       "      <th>Open</th>\n",
       "      <th>Close</th>\n",
       "      <th>Volume</th>\n",
       "      <th>Adj Close</th>\n",
       "    </tr>\n",
       "    <tr>\n",
       "      <th>Date</th>\n",
       "      <th></th>\n",
       "      <th></th>\n",
       "      <th></th>\n",
       "      <th></th>\n",
       "      <th></th>\n",
       "      <th></th>\n",
       "    </tr>\n",
       "  </thead>\n",
       "  <tbody>\n",
       "    <tr>\n",
       "      <th>2020-11-25</th>\n",
       "      <td>19390.964844</td>\n",
       "      <td>18581.146484</td>\n",
       "      <td>19104.410156</td>\n",
       "      <td>18732.121094</td>\n",
       "      <td>43710357371</td>\n",
       "      <td>18732.121094</td>\n",
       "    </tr>\n",
       "    <tr>\n",
       "      <th>2020-11-26</th>\n",
       "      <td>18866.285156</td>\n",
       "      <td>16351.035156</td>\n",
       "      <td>18729.839844</td>\n",
       "      <td>17150.623047</td>\n",
       "      <td>61396835736</td>\n",
       "      <td>17150.623047</td>\n",
       "    </tr>\n",
       "  </tbody>\n",
       "</table>\n",
       "</div>"
      ],
      "text/plain": [
       "                    High           Low          Open         Close  \\\n",
       "Date                                                                 \n",
       "2020-11-25  19390.964844  18581.146484  19104.410156  18732.121094   \n",
       "2020-11-26  18866.285156  16351.035156  18729.839844  17150.623047   \n",
       "\n",
       "                 Volume     Adj Close  \n",
       "Date                                   \n",
       "2020-11-25  43710357371  18732.121094  \n",
       "2020-11-26  61396835736  17150.623047  "
      ]
     },
     "execution_count": 51,
     "metadata": {},
     "output_type": "execute_result"
    }
   ],
   "source": [
    "#Get the Quote_2\n",
    "btc_quote_2 = web.DataReader('BTC-USD', data_source='yahoo', start='2020-11-25', end='2020-11-25')\n",
    "btc_quote_2"
   ]
  },
  {
   "cell_type": "code",
   "execution_count": 53,
   "metadata": {},
   "outputs": [
    {
     "name": "stdout",
     "output_type": "stream",
     "text": [
      "Date\n",
      "2020-11-25    18732.121094\n",
      "2020-11-26    17150.623047\n",
      "Name: Close, dtype: float64\n"
     ]
    }
   ],
   "source": [
    "print(btc_quote_2['Close'])"
   ]
  },
  {
   "cell_type": "code",
   "execution_count": null,
   "metadata": {},
   "outputs": [],
   "source": []
  }
 ],
 "metadata": {
  "kernelspec": {
   "display_name": "Python 3",
   "language": "python",
   "name": "python3"
  },
  "language_info": {
   "codemirror_mode": {
    "name": "ipython",
    "version": 3
   },
   "file_extension": ".py",
   "mimetype": "text/x-python",
   "name": "python",
   "nbconvert_exporter": "python",
   "pygments_lexer": "ipython3",
   "version": "3.8.5"
  }
 },
 "nbformat": 4,
 "nbformat_minor": 4
}
