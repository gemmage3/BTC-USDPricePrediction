{
 "cells": [
  {
   "cell_type": "code",
   "execution_count": null,
   "metadata": {},
   "outputs": [],
   "source": [
    "#Description: This program uses an artificial recurrent neural network called Long Short Term Memory (LTSM)\n",
    "#            To predict the closing price of BITCOIN Using the past 60 day price.\n"
   ]
  },
  {
   "cell_type": "code",
   "execution_count": 11,
   "metadata": {},
   "outputs": [],
   "source": [
    "import math\n",
    "import pandas_datareader as web\n",
    "import numpy as np\n",
    "import pandas as pd\n",
    "import matplotlib.pyplot as plt\n",
    "plt.style.use('fivethirtyeight')"
   ]
  },
  {
   "cell_type": "code",
   "execution_count": 12,
   "metadata": {},
   "outputs": [],
   "source": [
    "import pandas_datareader as web"
   ]
  },
  {
   "cell_type": "code",
   "execution_count": 13,
   "metadata": {},
   "outputs": [
    {
     "data": {
      "text/html": [
       "<div>\n",
       "<style scoped>\n",
       "    .dataframe tbody tr th:only-of-type {\n",
       "        vertical-align: middle;\n",
       "    }\n",
       "\n",
       "    .dataframe tbody tr th {\n",
       "        vertical-align: top;\n",
       "    }\n",
       "\n",
       "    .dataframe thead th {\n",
       "        text-align: right;\n",
       "    }\n",
       "</style>\n",
       "<table border=\"1\" class=\"dataframe\">\n",
       "  <thead>\n",
       "    <tr style=\"text-align: right;\">\n",
       "      <th></th>\n",
       "      <th>High</th>\n",
       "      <th>Low</th>\n",
       "      <th>Open</th>\n",
       "      <th>Close</th>\n",
       "      <th>Volume</th>\n",
       "      <th>Adj Close</th>\n",
       "    </tr>\n",
       "    <tr>\n",
       "      <th>Date</th>\n",
       "      <th></th>\n",
       "      <th></th>\n",
       "      <th></th>\n",
       "      <th></th>\n",
       "      <th></th>\n",
       "      <th></th>\n",
       "    </tr>\n",
       "  </thead>\n",
       "  <tbody>\n",
       "    <tr>\n",
       "      <th>2015-01-02</th>\n",
       "      <td>27.860001</td>\n",
       "      <td>26.837500</td>\n",
       "      <td>27.847500</td>\n",
       "      <td>27.332500</td>\n",
       "      <td>212818400.0</td>\n",
       "      <td>24.696352</td>\n",
       "    </tr>\n",
       "    <tr>\n",
       "      <th>2015-01-05</th>\n",
       "      <td>27.162500</td>\n",
       "      <td>26.352501</td>\n",
       "      <td>27.072500</td>\n",
       "      <td>26.562500</td>\n",
       "      <td>257142000.0</td>\n",
       "      <td>24.000614</td>\n",
       "    </tr>\n",
       "    <tr>\n",
       "      <th>2015-01-06</th>\n",
       "      <td>26.857500</td>\n",
       "      <td>26.157499</td>\n",
       "      <td>26.635000</td>\n",
       "      <td>26.565001</td>\n",
       "      <td>263188400.0</td>\n",
       "      <td>24.002876</td>\n",
       "    </tr>\n",
       "    <tr>\n",
       "      <th>2015-01-07</th>\n",
       "      <td>27.049999</td>\n",
       "      <td>26.674999</td>\n",
       "      <td>26.799999</td>\n",
       "      <td>26.937500</td>\n",
       "      <td>160423600.0</td>\n",
       "      <td>24.339447</td>\n",
       "    </tr>\n",
       "    <tr>\n",
       "      <th>2015-01-08</th>\n",
       "      <td>28.037500</td>\n",
       "      <td>27.174999</td>\n",
       "      <td>27.307501</td>\n",
       "      <td>27.972500</td>\n",
       "      <td>237458000.0</td>\n",
       "      <td>25.274624</td>\n",
       "    </tr>\n",
       "    <tr>\n",
       "      <th>...</th>\n",
       "      <td>...</td>\n",
       "      <td>...</td>\n",
       "      <td>...</td>\n",
       "      <td>...</td>\n",
       "      <td>...</td>\n",
       "      <td>...</td>\n",
       "    </tr>\n",
       "    <tr>\n",
       "      <th>2020-11-19</th>\n",
       "      <td>119.059998</td>\n",
       "      <td>116.809998</td>\n",
       "      <td>117.589996</td>\n",
       "      <td>118.639999</td>\n",
       "      <td>74113000.0</td>\n",
       "      <td>118.639999</td>\n",
       "    </tr>\n",
       "    <tr>\n",
       "      <th>2020-11-20</th>\n",
       "      <td>118.769997</td>\n",
       "      <td>117.290001</td>\n",
       "      <td>118.639999</td>\n",
       "      <td>117.339996</td>\n",
       "      <td>73391400.0</td>\n",
       "      <td>117.339996</td>\n",
       "    </tr>\n",
       "    <tr>\n",
       "      <th>2020-11-23</th>\n",
       "      <td>117.620003</td>\n",
       "      <td>113.750000</td>\n",
       "      <td>117.180000</td>\n",
       "      <td>113.849998</td>\n",
       "      <td>127959300.0</td>\n",
       "      <td>113.849998</td>\n",
       "    </tr>\n",
       "    <tr>\n",
       "      <th>2020-11-24</th>\n",
       "      <td>115.849998</td>\n",
       "      <td>112.589996</td>\n",
       "      <td>113.910004</td>\n",
       "      <td>115.169998</td>\n",
       "      <td>113874200.0</td>\n",
       "      <td>115.169998</td>\n",
       "    </tr>\n",
       "    <tr>\n",
       "      <th>2020-11-25</th>\n",
       "      <td>116.750000</td>\n",
       "      <td>115.169998</td>\n",
       "      <td>115.550003</td>\n",
       "      <td>116.029999</td>\n",
       "      <td>76499200.0</td>\n",
       "      <td>116.029999</td>\n",
       "    </tr>\n",
       "  </tbody>\n",
       "</table>\n",
       "<p>1487 rows × 6 columns</p>\n",
       "</div>"
      ],
      "text/plain": [
       "                  High         Low        Open       Close       Volume  \\\n",
       "Date                                                                      \n",
       "2015-01-02   27.860001   26.837500   27.847500   27.332500  212818400.0   \n",
       "2015-01-05   27.162500   26.352501   27.072500   26.562500  257142000.0   \n",
       "2015-01-06   26.857500   26.157499   26.635000   26.565001  263188400.0   \n",
       "2015-01-07   27.049999   26.674999   26.799999   26.937500  160423600.0   \n",
       "2015-01-08   28.037500   27.174999   27.307501   27.972500  237458000.0   \n",
       "...                ...         ...         ...         ...          ...   \n",
       "2020-11-19  119.059998  116.809998  117.589996  118.639999   74113000.0   \n",
       "2020-11-20  118.769997  117.290001  118.639999  117.339996   73391400.0   \n",
       "2020-11-23  117.620003  113.750000  117.180000  113.849998  127959300.0   \n",
       "2020-11-24  115.849998  112.589996  113.910004  115.169998  113874200.0   \n",
       "2020-11-25  116.750000  115.169998  115.550003  116.029999   76499200.0   \n",
       "\n",
       "             Adj Close  \n",
       "Date                    \n",
       "2015-01-02   24.696352  \n",
       "2015-01-05   24.000614  \n",
       "2015-01-06   24.002876  \n",
       "2015-01-07   24.339447  \n",
       "2015-01-08   25.274624  \n",
       "...                ...  \n",
       "2020-11-19  118.639999  \n",
       "2020-11-20  117.339996  \n",
       "2020-11-23  113.849998  \n",
       "2020-11-24  115.169998  \n",
       "2020-11-25  116.029999  \n",
       "\n",
       "[1487 rows x 6 columns]"
      ]
     },
     "execution_count": 13,
     "metadata": {},
     "output_type": "execute_result"
    }
   ],
   "source": [
    "df = web.DataReader('AAPL', data_source='yahoo', start='2015-01-01', end='2020-11-25')\n",
    "df\n"
   ]
  },
  {
   "cell_type": "code",
   "execution_count": 14,
   "metadata": {},
   "outputs": [
    {
     "data": {
      "text/html": [
       "<div>\n",
       "<style scoped>\n",
       "    .dataframe tbody tr th:only-of-type {\n",
       "        vertical-align: middle;\n",
       "    }\n",
       "\n",
       "    .dataframe tbody tr th {\n",
       "        vertical-align: top;\n",
       "    }\n",
       "\n",
       "    .dataframe thead th {\n",
       "        text-align: right;\n",
       "    }\n",
       "</style>\n",
       "<table border=\"1\" class=\"dataframe\">\n",
       "  <thead>\n",
       "    <tr style=\"text-align: right;\">\n",
       "      <th></th>\n",
       "      <th>High</th>\n",
       "      <th>Low</th>\n",
       "      <th>Open</th>\n",
       "      <th>Close</th>\n",
       "      <th>Volume</th>\n",
       "      <th>Adj Close</th>\n",
       "    </tr>\n",
       "    <tr>\n",
       "      <th>Date</th>\n",
       "      <th></th>\n",
       "      <th></th>\n",
       "      <th></th>\n",
       "      <th></th>\n",
       "      <th></th>\n",
       "      <th></th>\n",
       "    </tr>\n",
       "  </thead>\n",
       "  <tbody>\n",
       "    <tr>\n",
       "      <th>2015-01-02</th>\n",
       "      <td>50.331429</td>\n",
       "      <td>48.731430</td>\n",
       "      <td>49.151428</td>\n",
       "      <td>49.848572</td>\n",
       "      <td>13475000.0</td>\n",
       "      <td>49.848572</td>\n",
       "    </tr>\n",
       "    <tr>\n",
       "      <th>2015-01-05</th>\n",
       "      <td>49.258572</td>\n",
       "      <td>47.147144</td>\n",
       "      <td>49.258572</td>\n",
       "      <td>47.311428</td>\n",
       "      <td>18165000.0</td>\n",
       "      <td>47.311428</td>\n",
       "    </tr>\n",
       "    <tr>\n",
       "      <th>2015-01-06</th>\n",
       "      <td>47.639999</td>\n",
       "      <td>45.661430</td>\n",
       "      <td>47.347141</td>\n",
       "      <td>46.501427</td>\n",
       "      <td>16037700.0</td>\n",
       "      <td>46.501427</td>\n",
       "    </tr>\n",
       "    <tr>\n",
       "      <th>2015-01-07</th>\n",
       "      <td>47.421429</td>\n",
       "      <td>46.271427</td>\n",
       "      <td>47.347141</td>\n",
       "      <td>46.742859</td>\n",
       "      <td>9849700.0</td>\n",
       "      <td>46.742859</td>\n",
       "    </tr>\n",
       "    <tr>\n",
       "      <th>2015-01-08</th>\n",
       "      <td>47.835712</td>\n",
       "      <td>46.478573</td>\n",
       "      <td>47.119999</td>\n",
       "      <td>47.779999</td>\n",
       "      <td>9601900.0</td>\n",
       "      <td>47.779999</td>\n",
       "    </tr>\n",
       "    <tr>\n",
       "      <th>...</th>\n",
       "      <td>...</td>\n",
       "      <td>...</td>\n",
       "      <td>...</td>\n",
       "      <td>...</td>\n",
       "      <td>...</td>\n",
       "      <td>...</td>\n",
       "    </tr>\n",
       "    <tr>\n",
       "      <th>2020-11-19</th>\n",
       "      <td>487.799988</td>\n",
       "      <td>480.470001</td>\n",
       "      <td>482.000000</td>\n",
       "      <td>484.670013</td>\n",
       "      <td>2254700.0</td>\n",
       "      <td>484.670013</td>\n",
       "    </tr>\n",
       "    <tr>\n",
       "      <th>2020-11-20</th>\n",
       "      <td>494.760010</td>\n",
       "      <td>481.570007</td>\n",
       "      <td>485.220001</td>\n",
       "      <td>488.239990</td>\n",
       "      <td>4253400.0</td>\n",
       "      <td>488.239990</td>\n",
       "    </tr>\n",
       "    <tr>\n",
       "      <th>2020-11-23</th>\n",
       "      <td>491.149994</td>\n",
       "      <td>475.839996</td>\n",
       "      <td>490.459991</td>\n",
       "      <td>476.619995</td>\n",
       "      <td>5416600.0</td>\n",
       "      <td>476.619995</td>\n",
       "    </tr>\n",
       "    <tr>\n",
       "      <th>2020-11-24</th>\n",
       "      <td>484.049988</td>\n",
       "      <td>475.890015</td>\n",
       "      <td>478.839996</td>\n",
       "      <td>482.880005</td>\n",
       "      <td>3550500.0</td>\n",
       "      <td>482.880005</td>\n",
       "    </tr>\n",
       "    <tr>\n",
       "      <th>2020-11-25</th>\n",
       "      <td>486.899994</td>\n",
       "      <td>478.920013</td>\n",
       "      <td>485.130005</td>\n",
       "      <td>485.000000</td>\n",
       "      <td>3598600.0</td>\n",
       "      <td>485.000000</td>\n",
       "    </tr>\n",
       "  </tbody>\n",
       "</table>\n",
       "<p>1487 rows × 6 columns</p>\n",
       "</div>"
      ],
      "text/plain": [
       "                  High         Low        Open       Close      Volume  \\\n",
       "Date                                                                     \n",
       "2015-01-02   50.331429   48.731430   49.151428   49.848572  13475000.0   \n",
       "2015-01-05   49.258572   47.147144   49.258572   47.311428  18165000.0   \n",
       "2015-01-06   47.639999   45.661430   47.347141   46.501427  16037700.0   \n",
       "2015-01-07   47.421429   46.271427   47.347141   46.742859   9849700.0   \n",
       "2015-01-08   47.835712   46.478573   47.119999   47.779999   9601900.0   \n",
       "...                ...         ...         ...         ...         ...   \n",
       "2020-11-19  487.799988  480.470001  482.000000  484.670013   2254700.0   \n",
       "2020-11-20  494.760010  481.570007  485.220001  488.239990   4253400.0   \n",
       "2020-11-23  491.149994  475.839996  490.459991  476.619995   5416600.0   \n",
       "2020-11-24  484.049988  475.890015  478.839996  482.880005   3550500.0   \n",
       "2020-11-25  486.899994  478.920013  485.130005  485.000000   3598600.0   \n",
       "\n",
       "             Adj Close  \n",
       "Date                    \n",
       "2015-01-02   49.848572  \n",
       "2015-01-05   47.311428  \n",
       "2015-01-06   46.501427  \n",
       "2015-01-07   46.742859  \n",
       "2015-01-08   47.779999  \n",
       "...                ...  \n",
       "2020-11-19  484.670013  \n",
       "2020-11-20  488.239990  \n",
       "2020-11-23  476.619995  \n",
       "2020-11-24  482.880005  \n",
       "2020-11-25  485.000000  \n",
       "\n",
       "[1487 rows x 6 columns]"
      ]
     },
     "execution_count": 14,
     "metadata": {},
     "output_type": "execute_result"
    }
   ],
   "source": [
    "dff = web.DataReader('NFLX', data_source='yahoo', start='2015-01-01', end='2020-11-25')\n",
    "dff\n"
   ]
  },
  {
   "cell_type": "code",
   "execution_count": 15,
   "metadata": {},
   "outputs": [
    {
     "data": {
      "text/html": [
       "<div>\n",
       "<style scoped>\n",
       "    .dataframe tbody tr th:only-of-type {\n",
       "        vertical-align: middle;\n",
       "    }\n",
       "\n",
       "    .dataframe tbody tr th {\n",
       "        vertical-align: top;\n",
       "    }\n",
       "\n",
       "    .dataframe thead th {\n",
       "        text-align: right;\n",
       "    }\n",
       "</style>\n",
       "<table border=\"1\" class=\"dataframe\">\n",
       "  <thead>\n",
       "    <tr style=\"text-align: right;\">\n",
       "      <th></th>\n",
       "      <th>High</th>\n",
       "      <th>Low</th>\n",
       "      <th>Open</th>\n",
       "      <th>Close</th>\n",
       "      <th>Volume</th>\n",
       "      <th>Adj Close</th>\n",
       "    </tr>\n",
       "    <tr>\n",
       "      <th>Date</th>\n",
       "      <th></th>\n",
       "      <th></th>\n",
       "      <th></th>\n",
       "      <th></th>\n",
       "      <th></th>\n",
       "      <th></th>\n",
       "    </tr>\n",
       "  </thead>\n",
       "  <tbody>\n",
       "    <tr>\n",
       "      <th>2015-01-01</th>\n",
       "      <td>320.434998</td>\n",
       "      <td>314.002991</td>\n",
       "      <td>320.434998</td>\n",
       "      <td>314.248993</td>\n",
       "      <td>8036550</td>\n",
       "      <td>314.248993</td>\n",
       "    </tr>\n",
       "    <tr>\n",
       "      <th>2015-01-02</th>\n",
       "      <td>315.838989</td>\n",
       "      <td>313.565002</td>\n",
       "      <td>314.079010</td>\n",
       "      <td>315.032013</td>\n",
       "      <td>7860650</td>\n",
       "      <td>315.032013</td>\n",
       "    </tr>\n",
       "    <tr>\n",
       "      <th>2015-01-03</th>\n",
       "      <td>315.149994</td>\n",
       "      <td>281.082001</td>\n",
       "      <td>314.846008</td>\n",
       "      <td>281.082001</td>\n",
       "      <td>33054400</td>\n",
       "      <td>281.082001</td>\n",
       "    </tr>\n",
       "    <tr>\n",
       "      <th>2015-01-04</th>\n",
       "      <td>287.230011</td>\n",
       "      <td>257.612000</td>\n",
       "      <td>281.145996</td>\n",
       "      <td>264.195007</td>\n",
       "      <td>55629100</td>\n",
       "      <td>264.195007</td>\n",
       "    </tr>\n",
       "    <tr>\n",
       "      <th>2015-01-05</th>\n",
       "      <td>278.341003</td>\n",
       "      <td>265.084015</td>\n",
       "      <td>265.084015</td>\n",
       "      <td>274.473999</td>\n",
       "      <td>43962800</td>\n",
       "      <td>274.473999</td>\n",
       "    </tr>\n",
       "    <tr>\n",
       "      <th>...</th>\n",
       "      <td>...</td>\n",
       "      <td>...</td>\n",
       "      <td>...</td>\n",
       "      <td>...</td>\n",
       "      <td>...</td>\n",
       "      <td>...</td>\n",
       "    </tr>\n",
       "    <tr>\n",
       "      <th>2020-11-22</th>\n",
       "      <td>18688.968750</td>\n",
       "      <td>17671.384766</td>\n",
       "      <td>18642.232422</td>\n",
       "      <td>18370.001953</td>\n",
       "      <td>41280434225</td>\n",
       "      <td>18370.001953</td>\n",
       "    </tr>\n",
       "    <tr>\n",
       "      <th>2020-11-23</th>\n",
       "      <td>18711.425781</td>\n",
       "      <td>18000.796875</td>\n",
       "      <td>18370.017578</td>\n",
       "      <td>18364.121094</td>\n",
       "      <td>42741112307</td>\n",
       "      <td>18364.121094</td>\n",
       "    </tr>\n",
       "    <tr>\n",
       "      <th>2020-11-24</th>\n",
       "      <td>19348.271484</td>\n",
       "      <td>18128.656250</td>\n",
       "      <td>18365.015625</td>\n",
       "      <td>19107.464844</td>\n",
       "      <td>51469565008</td>\n",
       "      <td>19107.464844</td>\n",
       "    </tr>\n",
       "    <tr>\n",
       "      <th>2020-11-25</th>\n",
       "      <td>19390.964844</td>\n",
       "      <td>18581.146484</td>\n",
       "      <td>19104.410156</td>\n",
       "      <td>18732.121094</td>\n",
       "      <td>43710357371</td>\n",
       "      <td>18732.121094</td>\n",
       "    </tr>\n",
       "    <tr>\n",
       "      <th>2020-11-26</th>\n",
       "      <td>18866.285156</td>\n",
       "      <td>16351.035156</td>\n",
       "      <td>18729.839844</td>\n",
       "      <td>17150.623047</td>\n",
       "      <td>61396835736</td>\n",
       "      <td>17150.623047</td>\n",
       "    </tr>\n",
       "  </tbody>\n",
       "</table>\n",
       "<p>2157 rows × 6 columns</p>\n",
       "</div>"
      ],
      "text/plain": [
       "                    High           Low          Open         Close  \\\n",
       "Date                                                                 \n",
       "2015-01-01    320.434998    314.002991    320.434998    314.248993   \n",
       "2015-01-02    315.838989    313.565002    314.079010    315.032013   \n",
       "2015-01-03    315.149994    281.082001    314.846008    281.082001   \n",
       "2015-01-04    287.230011    257.612000    281.145996    264.195007   \n",
       "2015-01-05    278.341003    265.084015    265.084015    274.473999   \n",
       "...                  ...           ...           ...           ...   \n",
       "2020-11-22  18688.968750  17671.384766  18642.232422  18370.001953   \n",
       "2020-11-23  18711.425781  18000.796875  18370.017578  18364.121094   \n",
       "2020-11-24  19348.271484  18128.656250  18365.015625  19107.464844   \n",
       "2020-11-25  19390.964844  18581.146484  19104.410156  18732.121094   \n",
       "2020-11-26  18866.285156  16351.035156  18729.839844  17150.623047   \n",
       "\n",
       "                 Volume     Adj Close  \n",
       "Date                                   \n",
       "2015-01-01      8036550    314.248993  \n",
       "2015-01-02      7860650    315.032013  \n",
       "2015-01-03     33054400    281.082001  \n",
       "2015-01-04     55629100    264.195007  \n",
       "2015-01-05     43962800    274.473999  \n",
       "...                 ...           ...  \n",
       "2020-11-22  41280434225  18370.001953  \n",
       "2020-11-23  42741112307  18364.121094  \n",
       "2020-11-24  51469565008  19107.464844  \n",
       "2020-11-25  43710357371  18732.121094  \n",
       "2020-11-26  61396835736  17150.623047  \n",
       "\n",
       "[2157 rows x 6 columns]"
      ]
     },
     "execution_count": 15,
     "metadata": {},
     "output_type": "execute_result"
    }
   ],
   "source": [
    "dfff = web.DataReader('BTC-USD', data_source='yahoo', start='2015-01-01', end='2020-11-25')\n",
    "dfff\n"
   ]
  },
  {
   "cell_type": "code",
   "execution_count": 16,
   "metadata": {},
   "outputs": [
    {
     "data": {
      "text/plain": [
       "(2157, 6)"
      ]
     },
     "execution_count": 16,
     "metadata": {},
     "output_type": "execute_result"
    }
   ],
   "source": [
    "#Get the number of rows and columns in the data set \n",
    "dfff.shape"
   ]
  },
  {
   "cell_type": "code",
   "execution_count": 17,
   "metadata": {},
   "outputs": [],
   "source": [
    "import matplotlib.pyplot as plt\n",
    "plt.style.use('fivethirtyeight')"
   ]
  },
  {
   "cell_type": "code",
   "execution_count": 18,
   "metadata": {},
   "outputs": [],
   "source": [
    "import matplotlib.pyplot as plt\n",
    "import numpy as np\n",
    "%matplotlib inline"
   ]
  },
  {
   "cell_type": "code",
   "execution_count": 19,
   "metadata": {},
   "outputs": [],
   "source": [
    "import pandas_datareader as web"
   ]
  },
  {
   "cell_type": "code",
   "execution_count": 20,
   "metadata": {},
   "outputs": [
    {
     "data": {
      "text/html": [
       "<div>\n",
       "<style scoped>\n",
       "    .dataframe tbody tr th:only-of-type {\n",
       "        vertical-align: middle;\n",
       "    }\n",
       "\n",
       "    .dataframe tbody tr th {\n",
       "        vertical-align: top;\n",
       "    }\n",
       "\n",
       "    .dataframe thead th {\n",
       "        text-align: right;\n",
       "    }\n",
       "</style>\n",
       "<table border=\"1\" class=\"dataframe\">\n",
       "  <thead>\n",
       "    <tr style=\"text-align: right;\">\n",
       "      <th></th>\n",
       "      <th>High</th>\n",
       "      <th>Low</th>\n",
       "      <th>Open</th>\n",
       "      <th>Close</th>\n",
       "      <th>Volume</th>\n",
       "      <th>Adj Close</th>\n",
       "    </tr>\n",
       "    <tr>\n",
       "      <th>Date</th>\n",
       "      <th></th>\n",
       "      <th></th>\n",
       "      <th></th>\n",
       "      <th></th>\n",
       "      <th></th>\n",
       "      <th></th>\n",
       "    </tr>\n",
       "  </thead>\n",
       "  <tbody>\n",
       "    <tr>\n",
       "      <th>2015-01-01</th>\n",
       "      <td>320.434998</td>\n",
       "      <td>314.002991</td>\n",
       "      <td>320.434998</td>\n",
       "      <td>314.248993</td>\n",
       "      <td>8036550</td>\n",
       "      <td>314.248993</td>\n",
       "    </tr>\n",
       "    <tr>\n",
       "      <th>2015-01-02</th>\n",
       "      <td>315.838989</td>\n",
       "      <td>313.565002</td>\n",
       "      <td>314.079010</td>\n",
       "      <td>315.032013</td>\n",
       "      <td>7860650</td>\n",
       "      <td>315.032013</td>\n",
       "    </tr>\n",
       "    <tr>\n",
       "      <th>2015-01-03</th>\n",
       "      <td>315.149994</td>\n",
       "      <td>281.082001</td>\n",
       "      <td>314.846008</td>\n",
       "      <td>281.082001</td>\n",
       "      <td>33054400</td>\n",
       "      <td>281.082001</td>\n",
       "    </tr>\n",
       "    <tr>\n",
       "      <th>2015-01-04</th>\n",
       "      <td>287.230011</td>\n",
       "      <td>257.612000</td>\n",
       "      <td>281.145996</td>\n",
       "      <td>264.195007</td>\n",
       "      <td>55629100</td>\n",
       "      <td>264.195007</td>\n",
       "    </tr>\n",
       "    <tr>\n",
       "      <th>2015-01-05</th>\n",
       "      <td>278.341003</td>\n",
       "      <td>265.084015</td>\n",
       "      <td>265.084015</td>\n",
       "      <td>274.473999</td>\n",
       "      <td>43962800</td>\n",
       "      <td>274.473999</td>\n",
       "    </tr>\n",
       "    <tr>\n",
       "      <th>...</th>\n",
       "      <td>...</td>\n",
       "      <td>...</td>\n",
       "      <td>...</td>\n",
       "      <td>...</td>\n",
       "      <td>...</td>\n",
       "      <td>...</td>\n",
       "    </tr>\n",
       "    <tr>\n",
       "      <th>2020-11-22</th>\n",
       "      <td>18688.968750</td>\n",
       "      <td>17671.384766</td>\n",
       "      <td>18642.232422</td>\n",
       "      <td>18370.001953</td>\n",
       "      <td>41280434225</td>\n",
       "      <td>18370.001953</td>\n",
       "    </tr>\n",
       "    <tr>\n",
       "      <th>2020-11-23</th>\n",
       "      <td>18711.425781</td>\n",
       "      <td>18000.796875</td>\n",
       "      <td>18370.017578</td>\n",
       "      <td>18364.121094</td>\n",
       "      <td>42741112307</td>\n",
       "      <td>18364.121094</td>\n",
       "    </tr>\n",
       "    <tr>\n",
       "      <th>2020-11-24</th>\n",
       "      <td>19348.271484</td>\n",
       "      <td>18128.656250</td>\n",
       "      <td>18365.015625</td>\n",
       "      <td>19107.464844</td>\n",
       "      <td>51469565008</td>\n",
       "      <td>19107.464844</td>\n",
       "    </tr>\n",
       "    <tr>\n",
       "      <th>2020-11-25</th>\n",
       "      <td>19390.964844</td>\n",
       "      <td>18581.146484</td>\n",
       "      <td>19104.410156</td>\n",
       "      <td>18732.121094</td>\n",
       "      <td>43710357371</td>\n",
       "      <td>18732.121094</td>\n",
       "    </tr>\n",
       "    <tr>\n",
       "      <th>2020-11-26</th>\n",
       "      <td>18866.285156</td>\n",
       "      <td>16351.035156</td>\n",
       "      <td>18729.839844</td>\n",
       "      <td>17150.623047</td>\n",
       "      <td>61396835736</td>\n",
       "      <td>17150.623047</td>\n",
       "    </tr>\n",
       "  </tbody>\n",
       "</table>\n",
       "<p>2157 rows × 6 columns</p>\n",
       "</div>"
      ],
      "text/plain": [
       "                    High           Low          Open         Close  \\\n",
       "Date                                                                 \n",
       "2015-01-01    320.434998    314.002991    320.434998    314.248993   \n",
       "2015-01-02    315.838989    313.565002    314.079010    315.032013   \n",
       "2015-01-03    315.149994    281.082001    314.846008    281.082001   \n",
       "2015-01-04    287.230011    257.612000    281.145996    264.195007   \n",
       "2015-01-05    278.341003    265.084015    265.084015    274.473999   \n",
       "...                  ...           ...           ...           ...   \n",
       "2020-11-22  18688.968750  17671.384766  18642.232422  18370.001953   \n",
       "2020-11-23  18711.425781  18000.796875  18370.017578  18364.121094   \n",
       "2020-11-24  19348.271484  18128.656250  18365.015625  19107.464844   \n",
       "2020-11-25  19390.964844  18581.146484  19104.410156  18732.121094   \n",
       "2020-11-26  18866.285156  16351.035156  18729.839844  17150.623047   \n",
       "\n",
       "                 Volume     Adj Close  \n",
       "Date                                   \n",
       "2015-01-01      8036550    314.248993  \n",
       "2015-01-02      7860650    315.032013  \n",
       "2015-01-03     33054400    281.082001  \n",
       "2015-01-04     55629100    264.195007  \n",
       "2015-01-05     43962800    274.473999  \n",
       "...                 ...           ...  \n",
       "2020-11-22  41280434225  18370.001953  \n",
       "2020-11-23  42741112307  18364.121094  \n",
       "2020-11-24  51469565008  19107.464844  \n",
       "2020-11-25  43710357371  18732.121094  \n",
       "2020-11-26  61396835736  17150.623047  \n",
       "\n",
       "[2157 rows x 6 columns]"
      ]
     },
     "execution_count": 20,
     "metadata": {},
     "output_type": "execute_result"
    }
   ],
   "source": [
    "dfff = web.DataReader('BTC-USD', data_source='yahoo', start='2015-01-01', end='2020-11-25')\n",
    "dfff"
   ]
  },
  {
   "cell_type": "code",
   "execution_count": 5,
   "metadata": {},
   "outputs": [
    {
     "data": {
      "text/plain": [
       "(2157, 6)"
      ]
     },
     "execution_count": 5,
     "metadata": {},
     "output_type": "execute_result"
    }
   ],
   "source": [
    "dfff.shape"
   ]
  },
  {
   "cell_type": "code",
   "execution_count": 6,
   "metadata": {},
   "outputs": [],
   "source": [
    "import matplotlib.pyplot as plt\n",
    "plt.style.use('fivethirtyeight')"
   ]
  },
  {
   "cell_type": "code",
   "execution_count": 22,
   "metadata": {},
   "outputs": [
    {
     "data": {
      "image/png": "[encoded data removed]",
      "text/plain": [
       "<Figure size 1152x576 with 1 Axes>"
      ]
     },
     "metadata": {
      "needs_background": "light"
     },
     "output_type": "display_data"
    }
   ],
   "source": [
    "plt.figure(figsize=(16,8))\n",
    "plt.title('Close Price History')\n",
    "plt.plot(dfff['Close'])\n",
    "plt.xlabel('Data', fontsize=18)\n",
    "plt.ylabel('Close Price USD ($)', fontsize=18)\n",
    "plt.show()"
   ]
  },
  {
   "cell_type": "code",
   "execution_count": 23,
   "metadata": {},
   "outputs": [],
   "source": [
    "import math"
   ]
  },
  {
   "cell_type": "code",
   "execution_count": 24,
   "metadata": {},
   "outputs": [
    {
     "data": {
      "text/plain": [
       "1726"
      ]
     },
     "execution_count": 24,
     "metadata": {},
     "output_type": "execute_result"
    }
   ],
   "source": [
    "#Create a new dataframe with only the 'Close column'\n",
    "data = dfff.filter(['Close'])\n",
    "#Convert the dataframe to a numpy array\n",
    "dataset = data.values\n",
    "#Get the number of rows to train the model on\n",
    "training_data_len = math.ceil(len(dataset)* .8)\n",
    "training_data_len"
   ]
  },
  {
   "cell_type": "code",
   "execution_count": 25,
   "metadata": {},
   "outputs": [],
   "source": [
    "from sklearn.preprocessing import MinMaxScaler"
   ]
  },
  {
   "cell_type": "code",
   "execution_count": 26,
   "metadata": {},
   "outputs": [
    {
     "data": {
      "text/plain": [
       "array([[0.00704715],\n",
       "       [0.00708768],\n",
       "       [0.00533037],\n",
       "       ...,\n",
       "       [0.97981627],\n",
       "       [0.96038783],\n",
       "       [0.87852678]])"
      ]
     },
     "execution_count": 26,
     "metadata": {},
     "output_type": "execute_result"
    }
   ],
   "source": [
    "#Scale the data\n",
    "scaler = MinMaxScaler(feature_range=(0,1))\n",
    "scaled_data = scaler.fit_transform(dataset)\n",
    "scaled_data"
   ]
  },
  {
   "cell_type": "code",
   "execution_count": 27,
   "metadata": {},
   "outputs": [
    {
     "name": "stdout",
     "output_type": "stream",
     "text": [
      "[array([0.00704715, 0.00708768, 0.00533037, 0.00445627, 0.00498833,\n",
      "       0.00559472, 0.00601647, 0.00544771, 0.0058131 , 0.005005  ,\n",
      "       0.0045321 , 0.00464266, 0.00247204, 0.        , 0.00164297,\n",
      "       0.00155254, 0.00109512, 0.00166859, 0.00190266, 0.00171911,\n",
      "       0.00252566, 0.00286258, 0.0028353 , 0.00361007, 0.00391396,\n",
      "       0.00493651, 0.004419  , 0.00288892, 0.00286812, 0.00250123,\n",
      "       0.00203739, 0.00252954, 0.00311223, 0.00254487, 0.00252338,\n",
      "       0.00201912, 0.00228595, 0.00257002, 0.00234527, 0.00217435,\n",
      "       0.00216033, 0.00212647, 0.00225997, 0.00296719, 0.00410046,\n",
      "       0.00293603, 0.0028852 , 0.00339075, 0.00301372, 0.00321854,\n",
      "       0.0033995 , 0.00343858, 0.00299566, 0.00314654, 0.00313842,\n",
      "       0.00307294, 0.0030189 , 0.00391966, 0.00394217, 0.00424959])]\n",
      "[0.0050502362799632605]\n",
      "[array([0.00704715, 0.00708768, 0.00533037, 0.00445627, 0.00498833,\n",
      "       0.00559472, 0.00601647, 0.00544771, 0.0058131 , 0.005005  ,\n",
      "       0.0045321 , 0.00464266, 0.00247204, 0.        , 0.00164297,\n",
      "       0.00155254, 0.00109512, 0.00166859, 0.00190266, 0.00171911,\n",
      "       0.00252566, 0.00286258, 0.0028353 , 0.00361007, 0.00391396,\n",
      "       0.00493651, 0.004419  , 0.00288892, 0.00286812, 0.00250123,\n",
      "       0.00203739, 0.00252954, 0.00311223, 0.00254487, 0.00252338,\n",
      "       0.00201912, 0.00228595, 0.00257002, 0.00234527, 0.00217435,\n",
      "       0.00216033, 0.00212647, 0.00225997, 0.00296719, 0.00410046,\n",
      "       0.00293603, 0.0028852 , 0.00339075, 0.00301372, 0.00321854,\n",
      "       0.0033995 , 0.00343858, 0.00299566, 0.00314654, 0.00313842,\n",
      "       0.00307294, 0.0030189 , 0.00391966, 0.00394217, 0.00424959]), array([0.00708768, 0.00533037, 0.00445627, 0.00498833, 0.00559472,\n",
      "       0.00601647, 0.00544771, 0.0058131 , 0.005005  , 0.0045321 ,\n",
      "       0.00464266, 0.00247204, 0.        , 0.00164297, 0.00155254,\n",
      "       0.00109512, 0.00166859, 0.00190266, 0.00171911, 0.00252566,\n",
      "       0.00286258, 0.0028353 , 0.00361007, 0.00391396, 0.00493651,\n",
      "       0.004419  , 0.00288892, 0.00286812, 0.00250123, 0.00203739,\n",
      "       0.00252954, 0.00311223, 0.00254487, 0.00252338, 0.00201912,\n",
      "       0.00228595, 0.00257002, 0.00234527, 0.00217435, 0.00216033,\n",
      "       0.00212647, 0.00225997, 0.00296719, 0.00410046, 0.00293603,\n",
      "       0.0028852 , 0.00339075, 0.00301372, 0.00321854, 0.0033995 ,\n",
      "       0.00343858, 0.00299566, 0.00314654, 0.00313842, 0.00307294,\n",
      "       0.0030189 , 0.00391966, 0.00394217, 0.00424959, 0.00505024])]\n",
      "[0.0050502362799632605, 0.005362462045679315]\n"
     ]
    }
   ],
   "source": [
    "#Create the training data set\n",
    "#Create the scaled training data set\n",
    "train_data = scaled_data[0:training_data_len, :]\n",
    "#Split the data into x_train and y_train data sets\n",
    "x_train = []\n",
    "y_train = []\n",
    "\n",
    "for i in range(60, len(train_data)):\n",
    "    x_train.append(train_data[i-60:i, 0])\n",
    "    y_train.append(train_data[i, 0])\n",
    "    if i<= 61:\n",
    "        print(x_train)\n",
    "        print(y_train)\n",
    "        print"
   ]
  },
  {
   "cell_type": "code",
   "execution_count": 28,
   "metadata": {},
   "outputs": [],
   "source": [
    "import numpy as np"
   ]
  },
  {
   "cell_type": "code",
   "execution_count": 29,
   "metadata": {},
   "outputs": [],
   "source": [
    "#Convert the x_train & y_train to numpy arrays\n",
    "x_train, y_train = np.array(x_train), np.array(y_train)"
   ]
  },
  {
   "cell_type": "code",
   "execution_count": 30,
   "metadata": {},
   "outputs": [
    {
     "data": {
      "text/plain": [
       "(1666, 60, 1)"
      ]
     },
     "execution_count": 30,
     "metadata": {},
     "output_type": "execute_result"
    }
   ],
   "source": [
    "#Reshape the Data\n",
    "x_train = np.reshape(x_train, (x_train.shape[0], x_train.shape[1], 1))\n",
    "x_train.shape"
   ]
  },
  {
   "cell_type": "code",
   "execution_count": 31,
   "metadata": {},
   "outputs": [
    {
     "name": "stdout",
     "output_type": "stream",
     "text": [
      "Requirement already satisfied: tensorflow in /Applications/anaconda3/lib/python3.8/site-packages (2.3.1)\n",
      "Requirement already satisfied: astunparse==1.6.3 in /Applications/anaconda3/lib/python3.8/site-packages (from tensorflow) (1.6.3)\n",
      "Requirement already satisfied: tensorflow-estimator<2.4.0,>=2.3.0 in /Applications/anaconda3/lib/python3.8/site-packages (from tensorflow) (2.3.0)\n",
      "Requirement already satisfied: grpcio>=1.8.6 in /Applications/anaconda3/lib/python3.8/site-packages (from tensorflow) (1.34.0)\n",
      "Requirement already satisfied: tensorboard<3,>=2.3.0 in /Applications/anaconda3/lib/python3.8/site-packages (from tensorflow) (2.4.0)\n",
      "Requirement already satisfied: keras-preprocessing<1.2,>=1.1.1 in /Applications/anaconda3/lib/python3.8/site-packages (from tensorflow) (1.1.2)\n",
      "Requirement already satisfied: protobuf>=3.9.2 in /Applications/anaconda3/lib/python3.8/site-packages (from tensorflow) (3.14.0)\n",
      "Requirement already satisfied: gast==0.3.3 in /Applications/anaconda3/lib/python3.8/site-packages (from tensorflow) (0.3.3)\n",
      "Requirement already satisfied: h5py<2.11.0,>=2.10.0 in /Applications/anaconda3/lib/python3.8/site-packages (from tensorflow) (2.10.0)\n",
      "Requirement already satisfied: termcolor>=1.1.0 in /Applications/anaconda3/lib/python3.8/site-packages (from tensorflow) (1.1.0)\n",
      "Requirement already satisfied: wrapt>=1.11.1 in /Applications/anaconda3/lib/python3.8/site-packages (from tensorflow) (1.11.2)\n",
      "Requirement already satisfied: absl-py>=0.7.0 in /Applications/anaconda3/lib/python3.8/site-packages (from tensorflow) (0.11.0)\n",
      "Requirement already satisfied: wheel>=0.26 in /Applications/anaconda3/lib/python3.8/site-packages (from tensorflow) (0.35.1)\n",
      "Requirement already satisfied: opt-einsum>=2.3.2 in /Applications/anaconda3/lib/python3.8/site-packages (from tensorflow) (3.3.0)\n",
      "Requirement already satisfied: six>=1.12.0 in /Applications/anaconda3/lib/python3.8/site-packages (from tensorflow) (1.15.0)\n",
      "Requirement already satisfied: google-pasta>=0.1.8 in /Applications/anaconda3/lib/python3.8/site-packages (from tensorflow) (0.2.0)\n",
      "Requirement already satisfied: numpy<1.19.0,>=1.16.0 in /Applications/anaconda3/lib/python3.8/site-packages (from tensorflow) (1.18.5)\n",
      "Requirement already satisfied: markdown>=2.6.8 in /Applications/anaconda3/lib/python3.8/site-packages (from tensorboard<3,>=2.3.0->tensorflow) (3.3.3)\n",
      "Requirement already satisfied: setuptools>=41.0.0 in /Applications/anaconda3/lib/python3.8/site-packages (from tensorboard<3,>=2.3.0->tensorflow) (50.3.1.post20201107)\n",
      "Requirement already satisfied: google-auth-oauthlib<0.5,>=0.4.1 in /Applications/anaconda3/lib/python3.8/site-packages (from tensorboard<3,>=2.3.0->tensorflow) (0.4.2)\n",
      "Requirement already satisfied: werkzeug>=0.11.15 in /Applications/anaconda3/lib/python3.8/site-packages (from tensorboard<3,>=2.3.0->tensorflow) (1.0.1)\n",
      "Requirement already satisfied: tensorboard-plugin-wit>=1.6.0 in /Applications/anaconda3/lib/python3.8/site-packages (from tensorboard<3,>=2.3.0->tensorflow) (1.7.0)\n",
      "Requirement already satisfied: google-auth<2,>=1.6.3 in /Applications/anaconda3/lib/python3.8/site-packages (from tensorboard<3,>=2.3.0->tensorflow) (1.23.0)\n",
      "Requirement already satisfied: requests<3,>=2.21.0 in /Applications/anaconda3/lib/python3.8/site-packages (from tensorboard<3,>=2.3.0->tensorflow) (2.24.0)\n",
      "Requirement already satisfied: requests-oauthlib>=0.7.0 in /Applications/anaconda3/lib/python3.8/site-packages (from google-auth-oauthlib<0.5,>=0.4.1->tensorboard<3,>=2.3.0->tensorflow) (1.3.0)\n",
      "Requirement already satisfied: rsa<5,>=3.1.4; python_version >= \"3.5\" in /Applications/anaconda3/lib/python3.8/site-packages (from google-auth<2,>=1.6.3->tensorboard<3,>=2.3.0->tensorflow) (4.6)\n",
      "Requirement already satisfied: pyasn1-modules>=0.2.1 in /Applications/anaconda3/lib/python3.8/site-packages (from google-auth<2,>=1.6.3->tensorboard<3,>=2.3.0->tensorflow) (0.2.8)\n",
      "Requirement already satisfied: cachetools<5.0,>=2.0.0 in /Applications/anaconda3/lib/python3.8/site-packages (from google-auth<2,>=1.6.3->tensorboard<3,>=2.3.0->tensorflow) (4.1.1)\n",
      "Requirement already satisfied: urllib3!=1.25.0,!=1.25.1,<1.26,>=1.21.1 in /Applications/anaconda3/lib/python3.8/site-packages (from requests<3,>=2.21.0->tensorboard<3,>=2.3.0->tensorflow) (1.25.11)\n",
      "Requirement already satisfied: idna<3,>=2.5 in /Applications/anaconda3/lib/python3.8/site-packages (from requests<3,>=2.21.0->tensorboard<3,>=2.3.0->tensorflow) (2.10)\n",
      "Requirement already satisfied: certifi>=2017.4.17 in /Applications/anaconda3/lib/python3.8/site-packages (from requests<3,>=2.21.0->tensorboard<3,>=2.3.0->tensorflow) (2020.6.20)\n",
      "Requirement already satisfied: chardet<4,>=3.0.2 in /Applications/anaconda3/lib/python3.8/site-packages (from requests<3,>=2.21.0->tensorboard<3,>=2.3.0->tensorflow) (3.0.4)\n",
      "Requirement already satisfied: oauthlib>=3.0.0 in /Applications/anaconda3/lib/python3.8/site-packages (from requests-oauthlib>=0.7.0->google-auth-oauthlib<0.5,>=0.4.1->tensorboard<3,>=2.3.0->tensorflow) (3.1.0)\n",
      "Requirement already satisfied: pyasn1>=0.1.3 in /Applications/anaconda3/lib/python3.8/site-packages (from rsa<5,>=3.1.4; python_version >= \"3.5\"->google-auth<2,>=1.6.3->tensorboard<3,>=2.3.0->tensorflow) (0.4.8)\n",
      "Note: you may need to restart the kernel to use updated packages.\n"
     ]
    }
   ],
   "source": [
    "pip install tensorflow"
   ]
  },
  {
   "cell_type": "code",
   "execution_count": 32,
   "metadata": {},
   "outputs": [],
   "source": [
    "from tensorflow.keras import Sequential\n"
   ]
  },
  {
   "cell_type": "code",
   "execution_count": 33,
   "metadata": {},
   "outputs": [],
   "source": [
    "from tensorflow.keras.layers import Dense"
   ]
  },
  {
   "cell_type": "code",
   "execution_count": 34,
   "metadata": {},
   "outputs": [],
   "source": [
    "from tensorflow.keras.layers import LSTM"
   ]
  },
  {
   "cell_type": "code",
   "execution_count": 36,
   "metadata": {},
   "outputs": [],
   "source": [
    "#Build the LSTM model\n",
    "model = Sequential()\n",
    "model.add(LSTM(50, return_sequences=True, input_shape=(x_train.shape[1], 1)))\n",
    "model.add(LSTM(50, return_sequences=False))\n",
    "model.add(Dense(25))\n",
    "model.add(Dense(1))"
   ]
  },
  {
   "cell_type": "code",
   "execution_count": 38,
   "metadata": {},
   "outputs": [],
   "source": [
    "#Compile the model\n",
    "model.compile(optimizer='adam', loss='mean_squared_error')"
   ]
  },
  {
   "cell_type": "code",
   "execution_count": 41,
   "metadata": {},
   "outputs": [
    {
     "name": "stdout",
     "output_type": "stream",
     "text": [
      "1666/1666 [==============================] - 82s 49ms/step - loss: 0.0022\n"
     ]
    },
    {
     "data": {
      "text/plain": [
       "<tensorflow.python.keras.callbacks.History at 0x7fc1b0bb99a0>"
      ]
     },
     "execution_count": 41,
     "metadata": {},
     "output_type": "execute_result"
    }
   ],
   "source": [
    "#Train the model\n",
    "model.fit(x_train, y_train, batch_size=1, epochs=1)"
   ]
  },
  {
   "cell_type": "code",
   "execution_count": 42,
   "metadata": {},
   "outputs": [],
   "source": [
    "#Create the testing data set\n",
    "#Create new array containing scaled values from index 1666 to 2166\n",
    "test_data = scaled_data[training_data_len - 60:,:]\n",
    "#Create the data sets x_test and y_test\n",
    "x_test = []\n",
    "y_test = dataset[training_data_len:, :]\n",
    "for i in range(60, len(test_data)):\n",
    "    x_test.append(test_data[i-60:i, 0])"
   ]
  },
  {
   "cell_type": "code",
   "execution_count": 44,
   "metadata": {},
   "outputs": [],
   "source": [
    "#convert the data to a numpy array\n",
    "x_test = np.array(x_test)"
   ]
  },
  {
   "cell_type": "code",
   "execution_count": 45,
   "metadata": {},
   "outputs": [],
   "source": [
    "#Reshape data\n",
    "x_test = np.reshape(x_test,(x_test.shape[0], x_test.shape[1], 1))"
   ]
  },
  {
   "cell_type": "code",
   "execution_count": 46,
   "metadata": {},
   "outputs": [],
   "source": [
    "#Get the models predicted price values \n",
    "predictions = model.predict(x_test)\n",
    "predictions = scaler.inverse_transform(predictions)"
   ]
  },
  {
   "cell_type": "code",
   "execution_count": 48,
   "metadata": {},
   "outputs": [
    {
     "data": {
      "text/plain": [
       "153.5851965813515"
      ]
     },
     "execution_count": 48,
     "metadata": {},
     "output_type": "execute_result"
    }
   ],
   "source": [
    "#Get the route mean squared error (RMSE)\n",
    "rmse = np.sqrt(np.mean(predictions - y_test)**2)\n",
    "rmse"
   ]
  },
  {
   "cell_type": "code",
   "execution_count": 50,
   "metadata": {},
   "outputs": [
    {
     "name": "stderr",
     "output_type": "stream",
     "text": [
      "<ipython-input-50-4a4f2b1094c4>:4: SettingWithCopyWarning: \n",
      "A value is trying to be set on a copy of a slice from a DataFrame.\n",
      "Try using .loc[row_indexer,col_indexer] = value instead\n",
      "\n",
      "See the caveats in the documentation: https://pandas.pydata.org/pandas-docs/stable/user_guide/indexing.html#returning-a-view-versus-a-copy\n",
      "  valid['Predictions'] = predictions\n"
     ]
    },
    {
     "data": {
      "image/png": "[encoded data removed]",
      "text/plain": [
       "<Figure size 1152x576 with 1 Axes>"
      ]
     },
     "metadata": {
      "needs_background": "light"
     },
     "output_type": "display_data"
    }
   ],
   "source": [
    "#plot data \n",
    "train = data[:training_data_len:]\n",
    "valid = data[training_data_len:]\n",
    "valid['Predictions'] = predictions\n",
    "#Visualize the data\n",
    "plt.figure(figsize=(16,8))\n",
    "plt.title('Model')\n",
    "plt.xlabel('Date', fontsize=18)\n",
    "plt.ylabel('Close Price USD', fontsize=18)\n",
    "plt.show()\n"
   ]
  },
  {
   "cell_type": "code",
   "execution_count": null,
   "metadata": {},
   "outputs": [],
   "source": []
  }
 ],
 "metadata": {
  "kernelspec": {
   "display_name": "Python 3",
   "language": "python",
   "name": "python3"
  },
  "language_info": {
   "codemirror_mode": {
    "name": "ipython",
    "version": 3
   },
   "file_extension": ".py",
   "mimetype": "text/x-python",
   "name": "python",
   "nbconvert_exporter": "python",
   "pygments_lexer": "ipython3",
   "version": "3.8.5"
  }
 },
 "nbformat": 4,
 "nbformat_minor": 4
}
